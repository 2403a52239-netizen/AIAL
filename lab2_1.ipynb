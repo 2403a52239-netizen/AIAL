{
  "nbformat": 4,
  "nbformat_minor": 0,
  "metadata": {
    "colab": {
      "provenance": [],
      "authorship_tag": "ABX9TyMtJ9mJ4MZsksJ++kKT5Yth",
      "include_colab_link": true
    },
    "kernelspec": {
      "name": "python3",
      "display_name": "Python 3"
    },
    "language_info": {
      "name": "python"
    }
  },
  "cells": [
    {
      "cell_type": "markdown",
      "metadata": {
        "id": "view-in-github",
        "colab_type": "text"
      },
      "source": [
        "<a href=\"https://colab.research.google.com/github/2403a52239-netizen/AIAL/blob/main/lab2_1.ipynb\" target=\"_parent\"><img src=\"https://colab.research.google.com/assets/colab-badge.svg\" alt=\"Open In Colab\"/></a>"
      ]
    },
    {
      "cell_type": "markdown",
      "source": [
        "Task Description #2\n",
        "● Compare Gemini and Copilot outputs for a Python function that\n",
        "checks whether a number is an Armstrong number. Document the\n",
        "steps, prompts, and outputs.\n",
        "\n",
        "Prompt: write a python program using Python function that checks whether a number is an Armstrong number."
      ],
      "metadata": {
        "id": "gshdXy1ODSlm"
      }
    },
    {
      "cell_type": "code",
      "metadata": {
        "colab": {
          "base_uri": "https://localhost:8080/"
        },
        "id": "44a5b8e0",
        "outputId": "0c8381cd-06ab-4457-bbc3-b9711bc4bf12"
      },
      "source": [
        "def is_armstrong_number(number):\n",
        "    \"\"\"\n",
        "    Checks if a number is an Armstrong number.\n",
        "\n",
        "    An Armstrong number is a number that is the sum of its own digits\n",
        "    each raised to the power of the number of digits.\n",
        "    \"\"\"\n",
        "    # Convert the number to a string to count digits and access individual digits\n",
        "    num_str = str(number)\n",
        "    num_digits = len(num_str)\n",
        "    sum_of_powers = 0\n",
        "\n",
        "    # Calculate the sum of digits raised to the power of the number of digits\n",
        "    for digit in num_str:\n",
        "        sum_of_powers += int(digit) ** num_digits\n",
        "\n",
        "    # Check if the sum is equal to the original number\n",
        "    return sum_of_powers == number\n",
        "\n",
        "# Example usage:\n",
        "num_to_check = 153\n",
        "if is_armstrong_number(num_to_check):\n",
        "    print(f\"{num_to_check} is an Armstrong number.\")\n",
        "else:\n",
        "    print(f\"{num_to_check} is not an Armstrong number.\")\n",
        "\n",
        "num_to_check = 123\n",
        "if is_armstrong_number(num_to_check):\n",
        "    print(f\"{num_to_check} is an Armstrong number.\")\n",
        "else:\n",
        "    print(f\"{num_to_check} is not an Armstrong number.\")"
      ],
      "execution_count": 4,
      "outputs": [
        {
          "output_type": "stream",
          "name": "stdout",
          "text": [
            "153 is an Armstrong number.\n",
            "123 is not an Armstrong number.\n"
          ]
        }
      ]
    },
    {
      "cell_type": "markdown",
      "source": [
        "def is_armstrong_number(number):: This line defines a function named is_armstrong_number that takes one argument, number.\n",
        "Docstring: The triple-quoted string explains what the function does and defines what an Armstrong number is.\n",
        "num_str = str(number): The input number is converted to a string (num_str) so that you can easily determine the number of digits and access each digit individually.\n",
        "num_digits = len(num_str): This calculates the number of digits in the number by getting the length of the string representation.\n",
        "sum_of_powers = 0: A variable sum_of_powers is initialized to zero. This variable will store the sum of each digit raised to the power of the total number of digits.\n",
        "for digit in num_str:: This loop iterates through each character (digit) in the num_str string.\n",
        "sum_of_powers += int(digit) ** num_digits: Inside the loop, each digit (which is currently a string character) is converted back to an integer (int(digit)). This integer is then raised to the power of num_digits (the total number of digits). The result is added to the sum_of_powers.\n",
        "return sum_of_powers == number: After the loop finishes, the function compares the calculated sum_of_powers with the original input number. If they are equal, the function returns True (meaning it's an Armstrong number); otherwise, it returns False."
      ],
      "metadata": {
        "id": "mJki0Yz9FXnl"
      }
    }
  ]
}
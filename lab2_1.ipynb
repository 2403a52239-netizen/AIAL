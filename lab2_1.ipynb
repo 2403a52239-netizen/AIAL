{
  "nbformat": 4,
  "nbformat_minor": 0,
  "metadata": {
    "colab": {
      "provenance": [],
      "authorship_tag": "ABX9TyPlwTccr5GaKaV8QkKc5Frv",
      "include_colab_link": true
    },
    "kernelspec": {
      "name": "python3",
      "display_name": "Python 3"
    },
    "language_info": {
      "name": "python"
    }
  },
  "cells": [
    {
      "cell_type": "markdown",
      "metadata": {
        "id": "view-in-github",
        "colab_type": "text"
      },
      "source": [
        "<a href=\"https://colab.research.google.com/github/2403a52239-netizen/AIAL/blob/main/lab2_1.ipynb\" target=\"_parent\"><img src=\"https://colab.research.google.com/assets/colab-badge.svg\" alt=\"Open In Colab\"/></a>"
      ]
    },
    {
      "cell_type": "markdown",
      "source": [
        "Task Description #1\n",
        "● Use Google Gemini in Colab to write a Python function that reads\n",
        "a list of numbers and calculates the mean, minimum, and\n",
        "maximum values."
      ],
      "metadata": {
        "id": "j9gySTnV_nQY"
      }
    },
    {
      "cell_type": "code",
      "source": [
        "import statistics\n",
        "\n",
        "def analyze_numbers(numbers):\n",
        "  \"\"\"\n",
        "  Calculates the mean, minimum, and maximum values of a list of numbers.\n",
        "\n",
        "  Args:\n",
        "    numbers: A list of numbers.\n",
        "\n",
        "  Returns:\n",
        "    A dictionary containing the mean, minimum, and maximum values.\n",
        "  \"\"\"\n",
        "  if not numbers:\n",
        "    return {\"mean\": None, \"minimum\": None, \"maximum\": None}\n",
        "\n",
        "  mean_value = statistics.mean(numbers)\n",
        "  min_value = min(numbers)\n",
        "  max_value = max(numbers)\n",
        "\n",
        "  return {\"mean\": mean_value, \"minimum\": min_value, \"maximum\": max_value}\n",
        "\n",
        "# Example usage:\n",
        "my_list = [10, 20, 30, 40, 50]\n",
        "results = analyze_numbers(my_list)\n",
        "print(results)\n",
        "\n",
        "my_empty_list = []\n",
        "results_empty = analyze_numbers(my_empty_list)\n",
        "print(results_empty)"
      ],
      "metadata": {
        "colab": {
          "base_uri": "https://localhost:8080/"
        },
        "id": "-ez8jJ3K_0hw",
        "outputId": "0766b1fd-4c64-496d-8831-f64f2699c069"
      },
      "execution_count": 3,
      "outputs": [
        {
          "output_type": "stream",
          "name": "stdout",
          "text": [
            "{'mean': 30, 'minimum': 10, 'maximum': 50}\n",
            "{'mean': None, 'minimum': None, 'maximum': None}\n"
          ]
        }
      ]
    },
    {
      "cell_type": "markdown",
      "source": [
        "The code defines a function is_prime that checks if a given number is a prime number. It handles edge cases like numbers less than or equal to 1, and then iterates from 2 up to the square root of the number to check for divisibility. If it finds any divisors, it returns False, otherwise it returns True. The example usage demonstrates how to call the function and print the results for the numbers 7 and 10."
      ],
      "metadata": {
        "id": "qy4w4zMQALfQ"
      }
    }
  ]
}
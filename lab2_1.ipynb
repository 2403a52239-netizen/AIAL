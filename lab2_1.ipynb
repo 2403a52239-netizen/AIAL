{
  "nbformat": 4,
  "nbformat_minor": 0,
  "metadata": {
    "colab": {
      "provenance": [],
      "authorship_tag": "ABX9TyN2uqchlrct7V/8EGXnQFRM",
      "include_colab_link": true
    },
    "kernelspec": {
      "name": "python3",
      "display_name": "Python 3"
    },
    "language_info": {
      "name": "python"
    }
  },
  "cells": [
    {
      "cell_type": "markdown",
      "metadata": {
        "id": "view-in-github",
        "colab_type": "text"
      },
      "source": [
        "<a href=\"https://colab.research.google.com/github/2403a52239-netizen/AIAL/blob/main/lab2_1.ipynb\" target=\"_parent\"><img src=\"https://colab.research.google.com/assets/colab-badge.svg\" alt=\"Open In Colab\"/></a>"
      ]
    },
    {
      "cell_type": "markdown",
      "source": [
        "Task Description #1\n",
        "● Use Google Gemini in Colab to write a Python function that reads\n",
        "a list of numbers and calculates the mean, minimum, and\n",
        "maximum values.\n",
        "\n",
        "prompt: write a Python function that reads\n",
        "a list of numbers and calculates the mean, minimum, and\n",
        "maximum values."
      ],
      "metadata": {
        "id": "j9gySTnV_nQY"
      }
    },
    {
      "cell_type": "code",
      "source": [
        "import statistics\n",
        "\n",
        "def analyze_numbers(numbers):\n",
        "  \"\"\"\n",
        "  Calculates the mean, minimum, and maximum values of a list of numbers.\n",
        "\n",
        "  Args:\n",
        "    numbers: A list of numbers.\n",
        "\n",
        "  Returns:\n",
        "    A dictionary containing the mean, minimum, and maximum values.\n",
        "  \"\"\"\n",
        "  if not numbers:\n",
        "    return {\"mean\": None, \"minimum\": None, \"maximum\": None}\n",
        "\n",
        "  mean_value = statistics.mean(numbers)\n",
        "  min_value = min(numbers)\n",
        "  max_value = max(numbers)\n",
        "\n",
        "  return {\"mean\": mean_value, \"minimum\": min_value, \"maximum\": max_value}\n",
        "\n",
        "# Example usage:\n",
        "my_list = [10, 20, 30, 40, 50]\n",
        "results = analyze_numbers(my_list)\n",
        "print(results)\n",
        "\n",
        "my_empty_list = []\n",
        "results_empty = analyze_numbers(my_empty_list)\n",
        "print(results_empty)"
      ],
      "metadata": {
        "colab": {
          "base_uri": "https://localhost:8080/"
        },
        "id": "-ez8jJ3K_0hw",
        "outputId": "0766b1fd-4c64-496d-8831-f64f2699c069"
      },
      "execution_count": 3,
      "outputs": [
        {
          "output_type": "stream",
          "name": "stdout",
          "text": [
            "{'mean': 30, 'minimum': 10, 'maximum': 50}\n",
            "{'mean': None, 'minimum': None, 'maximum': None}\n"
          ]
        }
      ]
    },
    {
      "cell_type": "markdown",
      "source": [
        "The code defines a function is_prime that checks if a given number is a prime number. It handles edge cases like numbers less than or equal to 1, and then iterates from 2 up to the square root of the number to check for divisibility. If it finds any divisors, it returns False, otherwise it returns True. The example usage demonstrates how to call the function and print the results for the numbers 7 and 10."
      ],
      "metadata": {
        "id": "qy4w4zMQALfQ"
      }
    },
    {
      "cell_type": "markdown",
      "source": [
        "Task Description #2 ● Compare Gemini and Copilot outputs for a Python function that checks whether a number is an Armstrong number. Document the steps, prompts, and outputs.\n",
        "\n",
        "Prompt: write a python program using Python function that checks whether a number is an Armstrong number."
      ],
      "metadata": {
        "id": "Y-OW-b54H0U1"
      }
    },
    {
      "cell_type": "code",
      "source": [
        "def is_armstrong_number(number):\n",
        "    \"\"\"\n",
        "    Checks if a number is an Armstrong number.\n",
        "\n",
        "    An Armstrong number is a number that is the sum of its own digits\n",
        "    each raised to the power of the number of digits.\n",
        "    \"\"\"\n",
        "    # Convert the number to a string to count digits and access individual digits\n",
        "    num_str = str(number)\n",
        "    num_digits = len(num_str)\n",
        "    sum_of_powers = 0\n",
        "\n",
        "    # Calculate the sum of digits raised to the power of the number of digits\n",
        "    for digit in num_str:\n",
        "        sum_of_powers += int(digit) ** num_digits\n",
        "\n",
        "    # Check if the sum is equal to the original number\n",
        "    return sum_of_powers == number\n",
        "\n",
        "# Example usage:\n",
        "num_to_check = 153\n",
        "if is_armstrong_number(num_to_check):\n",
        "    print(f\"{num_to_check} is an Armstrong number.\")\n",
        "else:\n",
        "    print(f\"{num_to_check} is not an Armstrong number.\")\n",
        "\n",
        "num_to_check = 123\n",
        "if is_armstrong_number(num_to_check):\n",
        "    print(f\"{num_to_check} is an Armstrong number.\")\n",
        "else:\n",
        "    print(f\"{num_to_check} is not an Armstrong number.\")"
      ],
      "metadata": {
        "colab": {
          "base_uri": "https://localhost:8080/"
        },
        "id": "RXoeuodvH08T",
        "outputId": "de12babb-6927-4076-ec3f-0038a8131740"
      },
      "execution_count": 4,
      "outputs": [
        {
          "output_type": "stream",
          "name": "stdout",
          "text": [
            "153 is an Armstrong number.\n",
            "123 is not an Armstrong number.\n"
          ]
        }
      ]
    },
    {
      "cell_type": "markdown",
      "source": [
        "def is_armstrong_number(number):: This line defines a function named is_armstrong_number that takes one argument, number.\n",
        "\n",
        "\n",
        "Docstring: The triple-quoted string explains what the function does and defines what an Armstrong number is.\n",
        "\n",
        "num_str = str(number): The input number is converted to a string (num_str) so that you can easily determine the number of digits and access each digit individually.\n",
        "\n",
        "num_digits = len(num_str): This calculates the number of digits in the number by getting the length of the string representation.\n",
        "\n",
        "sum_of_powers = 0: A variable sum_of_powers is initialized to zero. This variable will store the sum of each digit raised to the power of the total number of digits.\n",
        "\n",
        "for digit in num_str:: This loop iterates through each character (digit) in the num_str string.\n",
        "\n",
        "sum_of_powers += int(digit) ** num_digits: Inside the loop, each digit (which is currently a string character) is converted back to an integer (int(digit)). This integer is then raised to the power of num_digits (the total number of digits). The result is added to the sum_of_powers.\n",
        "\n",
        "return sum_of_powers == number: After the loop finishes, the function compares the calculated sum_of_powers with the original input number. If they are equal, the function returns True (meaning it's an Armstrong number); otherwise, it returns False."
      ],
      "metadata": {
        "id": "b7FAIFUqH7jE"
      }
    },
    {
      "cell_type": "markdown",
      "source": [
        "Task Description #3\n",
        "● Ask Gemini to explain a Python function (e.g., is_prime(n) or\n",
        "is_palindrome(s)) line by line.\n",
        "● Choose either a prime-checking or palindrome-checking function\n",
        "and document the explanation provided by Gemini.\n",
        "\n",
        "prompt: write a python program to check a number is palindrome or prime"
      ],
      "metadata": {
        "id": "S3vzfLySH95d"
      }
    },
    {
      "cell_type": "code",
      "source": [],
      "metadata": {
        "id": "CBO2SO3cH4Il"
      },
      "execution_count": null,
      "outputs": []
    },
    {
      "cell_type": "code",
      "metadata": {
        "colab": {
          "base_uri": "https://localhost:8080/"
        },
        "id": "a499a531",
        "outputId": "f6f502d5-83a0-4309-8e5d-9219ccf4bbe2"
      },
      "source": [
        "def is_palindrome(num):\n",
        "  \"\"\"Checks if a number is a palindrome.\"\"\"\n",
        "  # Convert the number to a string to easily reverse it\n",
        "  num_str = str(num)\n",
        "  # Compare the string with its reverse\n",
        "  return num_str == num_str[::-1]\n",
        "\n",
        "# The is_prime function is already defined in a previous cell.\n",
        "# Assuming the is_prime function from the previous turn is available.\n",
        "\n",
        "def check_number_type(num):\n",
        "  \"\"\"Checks if a number is palindrome or prime.\"\"\"\n",
        "  if is_palindrome(num):\n",
        "    print(f\"{num} is a palindrome.\")\n",
        "  else:\n",
        "    print(f\"{num} is not a palindrome.\")\n",
        "\n",
        "  if is_prime(num):\n",
        "    print(f\"{num} is a prime number.\")\n",
        "  else:\n",
        "    print(f\"{num} is not a prime number.\")\n",
        "\n",
        "# Example usage:\n",
        "number_to_check = 121\n",
        "check_number_type(number_to_check)\n",
        "\n",
        "number_to_check = 17\n",
        "check_number_type(number_to_check)\n",
        "\n",
        "number_to_check = 123\n",
        "check_number_type(number_to_check)"
      ],
      "execution_count": 5,
      "outputs": [
        {
          "output_type": "stream",
          "name": "stdout",
          "text": [
            "121 is a palindrome.\n",
            "121 is not a prime number.\n",
            "17 is not a palindrome.\n",
            "17 is a prime number.\n",
            "123 is not a palindrome.\n",
            "123 is not a prime number.\n"
          ]
        }
      ]
    },
    {
      "cell_type": "markdown",
      "source": [
        "def is_palindrome(num):: This line defines a function named is_palindrome that takes one argument, num.\n",
        "\n",
        "\"\"\"Checks if a number is a palindrome.\"\"\": This is a docstring that explains what the function does.\n",
        "\n",
        "num_str = str(num): The input number num is converted to a string and stored in the variable num_str. This is done so that you can easily reverse the number.\n",
        "\n",
        "return num_str == num_str[::-1]: This is the core of the palindrome check. num_str[::-1] creates a reversed version of the num_str string.\n",
        "\n",
        " The code then compares the original string with its reversed version. If they are the same, the function returns True (meaning the number is a palindrome); otherwise, it returns False.\n",
        "\n",
        "def check_number_type(num):: This defines a function named check_number_type that also takes one argument, num.\n",
        "\n",
        "\"\"\"Checks if a number is palindrome or prime.\"\"\": This is a docstring for the check_number_type function.\n",
        "\n",
        "if is_palindrome(num):: This line calls the is_palindrome function with the input number num. If is_palindrome returns True, the code inside this if block is executed.\n",
        "\n",
        "print(f\"{num} is a palindrome.\"): If the number is a palindrome, this line prints a message indicating that.\n",
        "\n",
        "else:: This marks the alternative block of code to be executed if the if condition is false.\n",
        "\n",
        "print(f\"{num} is not a palindrome.\"): If the number is not a palindrome, this line prints a message indicating that.\n",
        "\n",
        "if is_prime(num):: This line calls the is_prime function with the input number num. If is_prime returns True, the code inside this if block is executed.\n",
        "\n",
        "print(f\"{num} is a prime number.\"): If the number is prime, this line prints a message indicating that.\n",
        "\n",
        "else:: This marks the alternative block of code to be executed if the if condition is false.\n",
        "\n",
        "print(f\"{num} is not a prime number.\"): If the number is not prime, this line prints a message indicating that.\n"
      ],
      "metadata": {
        "id": "dJmcprCJJPbV"
      }
    },
    {
      "cell_type": "markdown",
      "source": [
        "Task Description #4\n",
        "● Install and configure Cursor AI. Use it to generate a Python\n",
        "function (e.g., sum of the first N natural numbers) and test its\n",
        "output.\n",
        "● Optionally, compare Cursor AI’s generated code with Gemini’s\n",
        "output.\n",
        "\n",
        "prompt:develop a python program to generate a python function to show sum of N natural  numbers."
      ],
      "metadata": {
        "id": "G8ZondVAKHPb"
      }
    },
    {
      "cell_type": "code",
      "source": [],
      "metadata": {
        "id": "qQtje_dIK0Il"
      },
      "execution_count": null,
      "outputs": []
    },
    {
      "cell_type": "code",
      "metadata": {
        "colab": {
          "base_uri": "https://localhost:8080/"
        },
        "id": "add51ba8",
        "outputId": "3f68450c-fc7a-4055-a474-a9247eef8e6a"
      },
      "source": [
        "def sum_of_natural_numbers(n):\n",
        "  \"\"\"\n",
        "  Calculates the sum of the first n natural numbers.\n",
        "\n",
        "  Args:\n",
        "    n: A positive integer.\n",
        "\n",
        "  Returns:\n",
        "    The sum of the first n natural numbers.\n",
        "  \"\"\"\n",
        "  if n < 0:\n",
        "    return \"Input should be a positive integer\"\n",
        "  else:\n",
        "    return n * (n + 1) // 2\n",
        "\n",
        "# Example usage:\n",
        "n_value = 10\n",
        "sum_n = sum_of_natural_numbers(n_value)\n",
        "print(f\"The sum of the first {n_value} natural numbers is: {sum_n}\")\n",
        "\n",
        "n_value = 5\n",
        "sum_n = sum_of_natural_numbers(n_value)\n",
        "print(f\"The sum of the first {n_value} natural numbers is: {sum_n}\")\n",
        "\n",
        "n_value = -5\n",
        "sum_n = sum_of_natural_numbers(n_value)\n",
        "print(f\"The sum of the first {n_value} natural numbers is: {sum_n}\")"
      ],
      "execution_count": 6,
      "outputs": [
        {
          "output_type": "stream",
          "name": "stdout",
          "text": [
            "The sum of the first 10 natural numbers is: 55\n",
            "The sum of the first 5 natural numbers is: 15\n",
            "The sum of the first -5 natural numbers is: Input should be a positive integer\n"
          ]
        }
      ]
    },
    {
      "cell_type": "markdown",
      "source": [
        "def sum_of_natural_numbers(n):: This line defines the function named sum_of_natural_numbers that takes one argument, n.\n",
        "\n",
        "\"\"\"Calculates the sum of the first n natural numbers.\"\"\": This is a docstring explaining what the function does.\n",
        "\n",
        "if n < 0:: This checks if the input number n is negative.\n",
        "\n",
        "return \"Input should be a positive integer\": If n is negative, the function returns a message indicating that the input should be a positive integer.\n",
        "\n",
        "else:: If n is not negative (i.e., it's zero or positive), the code in this block is executed.\n",
        "\n",
        "return n * (n + 1) // 2: This is the core of the function. It uses the formula for the sum of the first n natural numbers, which is n * (n + 1) / 2. The // operator performs integer division."
      ],
      "metadata": {
        "id": "iMaDrlqfLG-0"
      }
    },
    {
      "cell_type": "markdown",
      "source": [
        "Task Description #5\n",
        "● Students need to write a Python program to calculate the sum of\n",
        "odd numbers and even numbers in a given tuple.\n",
        "● Refactor the code to improve logic and readability.\n",
        "\n",
        "prompt: write a Python program to calculate the sum of\n",
        "odd numbers and even numbers in a given tuple."
      ],
      "metadata": {
        "id": "YjpmnulqLTvz"
      }
    },
    {
      "cell_type": "code",
      "source": [],
      "metadata": {
        "id": "R1FOKWkbLi_q"
      },
      "execution_count": null,
      "outputs": []
    },
    {
      "cell_type": "code",
      "metadata": {
        "colab": {
          "base_uri": "https://localhost:8080/"
        },
        "id": "3d407986",
        "outputId": "4fafe29c-d128-407e-db30-f1c1569d11f1"
      },
      "source": [
        "def sum_odd_even(numbers):\n",
        "  \"\"\"\n",
        "  Calculates the sum of odd and even numbers in a tuple.\n",
        "\n",
        "  Args:\n",
        "    numbers: A tuple of numbers.\n",
        "\n",
        "  Returns:\n",
        "    A dictionary containing the sum of odd numbers and the sum of even numbers.\n",
        "  \"\"\"\n",
        "  sum_odd = 0\n",
        "  sum_even = 0\n",
        "\n",
        "  for number in numbers:\n",
        "    if number % 2 == 0:\n",
        "      sum_even += number\n",
        "    else:\n",
        "      sum_odd += number\n",
        "\n",
        "  return {\"sum_odd\": sum_odd, \"sum_even\": sum_even}\n",
        "\n",
        "# Example usage:\n",
        "my_tuple = (1, 2, 3, 4, 5, 6, 7, 8, 9, 10)\n",
        "sums = sum_odd_even(my_tuple)\n",
        "print(f\"Sum of odd numbers: {sums['sum_odd']}\")\n",
        "print(f\"Sum of even numbers: {sums['sum_even']}\")\n",
        "\n",
        "my_tuple_2 = (15, 22, 31, 48, 59)\n",
        "sums_2 = sum_odd_even(my_tuple_2)\n",
        "print(f\"Sum of odd numbers: {sums_2['sum_odd']}\")\n",
        "print(f\"Sum of even numbers: {sums_2['sum_even']}\")"
      ],
      "execution_count": 7,
      "outputs": [
        {
          "output_type": "stream",
          "name": "stdout",
          "text": [
            "Sum of odd numbers: 25\n",
            "Sum of even numbers: 30\n",
            "Sum of odd numbers: 105\n",
            "Sum of even numbers: 70\n"
          ]
        }
      ]
    },
    {
      "cell_type": "markdown",
      "source": [
        "def sum_odd_even(numbers):: This line defines a function named sum_odd_even that accepts one argument, numbers, which is expected to be a tuple.\n",
        "\n",
        "\"\"\"Calculates the sum of odd and even numbers in a tuple.\"\"\": This is a docstring that explains what the function does, its arguments (Args), and what it returns (Returns).\n",
        "\n",
        "sum_odd = 0: Initializes a variable sum_odd to 0. This variable will store the cumulative sum of odd numbers found in the tuple.\n",
        "\n",
        "sum_even = 0: Initializes a variable sum_even to 0. This variable will store the cumulative sum of even numbers found in the tuple.\n",
        "\n",
        "for number in numbers:: This loop iterates through each element in the input numbers tuple, assigning the current element to the variable number in each iteration.\n",
        "\n",
        "if number % 2 == 0:: Inside the loop, this condition checks if the current number is even. The modulo operator (%) returns the remainder of a division. If a number divided by 2 has a remainder of 0, it's an even number.\n",
        "\n",
        "sum_even += number: If the number is even, it is added to the sum_even variable.\n",
        "\n",
        "else:: If the condition in the if statement is false (meaning the number is not even), the code in this else block is executed.\n",
        "\n",
        "sum_odd += number: If the number is odd, it is added to the sum_odd variable.\n",
        "\n",
        "return {\"sum_odd\": sum_odd, \"sum_even\": sum_even}: After the loop has processed all numbers in the tuple, the function returns a dictionary.\n",
        "\n",
        " This dictionary contains two key-value pairs: \"sum_odd\" with the total sum of odd numbers, and \"sum_even\" with the total sum of even numbers.\n",
        "\n",
        "The example usage demonstrates how to call the sum_odd_even function with two different tuples (my_tuple and my_tuple_2) and then prints the calculated sums of odd and even numbers for each tuple."
      ],
      "metadata": {
        "id": "nKbjw494L4dK"
      }
    }
  ]
}